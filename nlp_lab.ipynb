{
 "cells": [
  {
   "cell_type": "markdown",
   "metadata": {},
   "source": [
    "Загрузим необходимые для работы библиотеки"
   ]
  },
  {
   "cell_type": "code",
   "execution_count": 1,
   "metadata": {
    "collapsed": true
   },
   "outputs": [],
   "source": [
    "import pandas as pd\n",
    "import nltk\n",
    "import sklearn\n",
    "import numpy as np\n",
    "\n",
    "from collections import deque\n",
    "from io import StringIO"
   ]
  },
  {
   "cell_type": "code",
   "execution_count": 2,
   "metadata": {
    "collapsed": true
   },
   "outputs": [],
   "source": [
    "from nltk.corpus import stopwords\n",
    "import string"
   ]
  },
  {
   "cell_type": "code",
   "execution_count": 3,
   "metadata": {},
   "outputs": [],
   "source": [
    "#nltk.download()"
   ]
  },
  {
   "cell_type": "markdown",
   "metadata": {},
   "source": [
    "Считаем данные из файла с обучающей выборкой"
   ]
  },
  {
   "cell_type": "code",
   "execution_count": 24,
   "metadata": {},
   "outputs": [
    {
     "name": "stderr",
     "output_type": "stream",
     "text": [
      "C:\\ProgramData\\Anaconda3\\lib\\site-packages\\numpy\\lib\\arraysetops.py:463: FutureWarning: elementwise comparison failed; returning scalar instead, but in the future will perform elementwise comparison\n",
      "  mask |= (ar1 == a)\n"
     ]
    }
   ],
   "source": [
    "train = pd.read_csv(\"D:/Practice/data/train_first_lab/train.csv\", index_col= \"id\")"
   ]
  },
  {
   "cell_type": "markdown",
   "metadata": {},
   "source": [
    "Таким образом, задача сводится к задаче бинарной классификации отзывов на положительные и отрицательные по множеству признаков, представленному словами"
   ]
  },
  {
   "cell_type": "code",
   "execution_count": 25,
   "metadata": {},
   "outputs": [
    {
     "data": {
      "text/html": [
       "<div>\n",
       "<style>\n",
       "    .dataframe thead tr:only-child th {\n",
       "        text-align: right;\n",
       "    }\n",
       "\n",
       "    .dataframe thead th {\n",
       "        text-align: left;\n",
       "    }\n",
       "\n",
       "    .dataframe tbody tr th {\n",
       "        vertical-align: top;\n",
       "    }\n",
       "</style>\n",
       "<table border=\"1\" class=\"dataframe\">\n",
       "  <thead>\n",
       "    <tr style=\"text-align: right;\">\n",
       "      <th></th>\n",
       "      <th>text</th>\n",
       "      <th>is_positive</th>\n",
       "    </tr>\n",
       "    <tr>\n",
       "      <th>id</th>\n",
       "      <th></th>\n",
       "      <th></th>\n",
       "    </tr>\n",
       "  </thead>\n",
       "  <tbody>\n",
       "    <tr>\n",
       "      <th>1</th>\n",
       "      <td>Sehr gutes Restaurant, leckeres essen und nett...</td>\n",
       "      <td>1</td>\n",
       "    </tr>\n",
       "    <tr>\n",
       "      <th>2</th>\n",
       "      <td>Viel Auswahl täuscht über die wahre Tatsache h...</td>\n",
       "      <td>0</td>\n",
       "    </tr>\n",
       "    <tr>\n",
       "      <th>3</th>\n",
       "      <td>Hole in the wall burrito joint with the BEST b...</td>\n",
       "      <td>1</td>\n",
       "    </tr>\n",
       "    <tr>\n",
       "      <th>4</th>\n",
       "      <td>Pokey Sticks are the best!</td>\n",
       "      <td>1</td>\n",
       "    </tr>\n",
       "    <tr>\n",
       "      <th>5</th>\n",
       "      <td>Love their subs. Cheap and top shelf ingredients.</td>\n",
       "      <td>1</td>\n",
       "    </tr>\n",
       "    <tr>\n",
       "      <th>6</th>\n",
       "      <td>Best pizza I've ever had.  My favorite is the ...</td>\n",
       "      <td>1</td>\n",
       "    </tr>\n",
       "    <tr>\n",
       "      <th>7</th>\n",
       "      <td>Good stuff. Pricey by normal pizza standards.</td>\n",
       "      <td>1</td>\n",
       "    </tr>\n",
       "    <tr>\n",
       "      <th>8</th>\n",
       "      <td>New club in the Hard Rock, and currently the h...</td>\n",
       "      <td>1</td>\n",
       "    </tr>\n",
       "    <tr>\n",
       "      <th>9</th>\n",
       "      <td>Love their pizza. They used to have a great ta...</td>\n",
       "      <td>1</td>\n",
       "    </tr>\n",
       "    <tr>\n",
       "      <th>10</th>\n",
       "      <td>The gold standard for casinos everywhere. Just...</td>\n",
       "      <td>1</td>\n",
       "    </tr>\n",
       "    <tr>\n",
       "      <th>11</th>\n",
       "      <td>Very fair prices on leather resole ($30), and ...</td>\n",
       "      <td>1</td>\n",
       "    </tr>\n",
       "    <tr>\n",
       "      <th>12</th>\n",
       "      <td>Frequently busy due to their great food, but t...</td>\n",
       "      <td>1</td>\n",
       "    </tr>\n",
       "    <tr>\n",
       "      <th>13</th>\n",
       "      <td>Excellent compounding pharmacy, affectionately...</td>\n",
       "      <td>1</td>\n",
       "    </tr>\n",
       "    <tr>\n",
       "      <th>14</th>\n",
       "      <td>The buffet in this hotel is excellent! The set...</td>\n",
       "      <td>1</td>\n",
       "    </tr>\n",
       "    <tr>\n",
       "      <th>15</th>\n",
       "      <td>Great hotel! Excellent Buffet!!! A little bit ...</td>\n",
       "      <td>1</td>\n",
       "    </tr>\n",
       "    <tr>\n",
       "      <th>16</th>\n",
       "      <td>Excellent Hotel! You really feel like you are ...</td>\n",
       "      <td>1</td>\n",
       "    </tr>\n",
       "    <tr>\n",
       "      <th>17</th>\n",
       "      <td>This is a little bit off the strip, but the vi...</td>\n",
       "      <td>1</td>\n",
       "    </tr>\n",
       "    <tr>\n",
       "      <th>18</th>\n",
       "      <td>Great food. Lots of selection. Big Portion. A ...</td>\n",
       "      <td>1</td>\n",
       "    </tr>\n",
       "    <tr>\n",
       "      <th>19</th>\n",
       "      <td>Hella food there!! Cocktail shrimps are great!...</td>\n",
       "      <td>1</td>\n",
       "    </tr>\n",
       "    <tr>\n",
       "      <th>20</th>\n",
       "      <td>Fresh shrimp, crab legs to enjoy. Prime Ribs &amp;...</td>\n",
       "      <td>1</td>\n",
       "    </tr>\n",
       "    <tr>\n",
       "      <th>21</th>\n",
       "      <td>Expect to spend about $10.00 per person. Nice ...</td>\n",
       "      <td>1</td>\n",
       "    </tr>\n",
       "    <tr>\n",
       "      <th>22</th>\n",
       "      <td>This restaurant took me by surprise, I was cra...</td>\n",
       "      <td>1</td>\n",
       "    </tr>\n",
       "    <tr>\n",
       "      <th>23</th>\n",
       "      <td>Spacious, luxurious rooms that definitely meri...</td>\n",
       "      <td>1</td>\n",
       "    </tr>\n",
       "    <tr>\n",
       "      <th>24</th>\n",
       "      <td>Easily my favorite place to eat in Madison.  G...</td>\n",
       "      <td>1</td>\n",
       "    </tr>\n",
       "    <tr>\n",
       "      <th>25</th>\n",
       "      <td>If the all the bars in Madison got together an...</td>\n",
       "      <td>1</td>\n",
       "    </tr>\n",
       "    <tr>\n",
       "      <th>26</th>\n",
       "      <td>Sophia's is like that girlfriend you broke up ...</td>\n",
       "      <td>1</td>\n",
       "    </tr>\n",
       "    <tr>\n",
       "      <th>27</th>\n",
       "      <td>Omelettes that have killed lesser men than me....</td>\n",
       "      <td>1</td>\n",
       "    </tr>\n",
       "    <tr>\n",
       "      <th>28</th>\n",
       "      <td>Incredible asian fusion, and an impressive sak...</td>\n",
       "      <td>1</td>\n",
       "    </tr>\n",
       "    <tr>\n",
       "      <th>29</th>\n",
       "      <td>Ideal lunch at Dotty's in downtown Madison: Sp...</td>\n",
       "      <td>1</td>\n",
       "    </tr>\n",
       "    <tr>\n",
       "      <th>30</th>\n",
       "      <td>There is nothing better than happy hour on the...</td>\n",
       "      <td>1</td>\n",
       "    </tr>\n",
       "    <tr>\n",
       "      <th>...</th>\n",
       "      <td>...</td>\n",
       "      <td>...</td>\n",
       "    </tr>\n",
       "    <tr>\n",
       "      <th>4084533</th>\n",
       "      <td>Wow how pathetic does it get.  This place is l...</td>\n",
       "      <td>0</td>\n",
       "    </tr>\n",
       "    <tr>\n",
       "      <th>4084534</th>\n",
       "      <td>This past Monday,  thought I would grab a ligh...</td>\n",
       "      <td>0</td>\n",
       "    </tr>\n",
       "    <tr>\n",
       "      <th>4084535</th>\n",
       "      <td>Went in the first time today. Looks like a nic...</td>\n",
       "      <td>0</td>\n",
       "    </tr>\n",
       "    <tr>\n",
       "      <th>4084536</th>\n",
       "      <td>McCarran  airports food and drink prices are t...</td>\n",
       "      <td>0</td>\n",
       "    </tr>\n",
       "    <tr>\n",
       "      <th>4084537</th>\n",
       "      <td>Very well managed facility. Access is great an...</td>\n",
       "      <td>1</td>\n",
       "    </tr>\n",
       "    <tr>\n",
       "      <th>4084538</th>\n",
       "      <td>This airport is ridiculous. My sister was tryi...</td>\n",
       "      <td>0</td>\n",
       "    </tr>\n",
       "    <tr>\n",
       "      <th>4084539</th>\n",
       "      <td>Love Russo's. Can't go wrong. Very nice people...</td>\n",
       "      <td>1</td>\n",
       "    </tr>\n",
       "    <tr>\n",
       "      <th>4084540</th>\n",
       "      <td>Sushi was absolutely delicious and the atmosph...</td>\n",
       "      <td>1</td>\n",
       "    </tr>\n",
       "    <tr>\n",
       "      <th>4084541</th>\n",
       "      <td>Cucina was our first dinner when getting to La...</td>\n",
       "      <td>1</td>\n",
       "    </tr>\n",
       "    <tr>\n",
       "      <th>4084542</th>\n",
       "      <td>Nice and clean place. Good fast service. Fun, ...</td>\n",
       "      <td>1</td>\n",
       "    </tr>\n",
       "    <tr>\n",
       "      <th>4084543</th>\n",
       "      <td>Naked fish will always hold a special spot in ...</td>\n",
       "      <td>1</td>\n",
       "    </tr>\n",
       "    <tr>\n",
       "      <th>4084544</th>\n",
       "      <td>Went for brunch specifically and they had a bu...</td>\n",
       "      <td>1</td>\n",
       "    </tr>\n",
       "    <tr>\n",
       "      <th>4084545</th>\n",
       "      <td>Wait, what? Why did I not know before that the...</td>\n",
       "      <td>1</td>\n",
       "    </tr>\n",
       "    <tr>\n",
       "      <th>4084546</th>\n",
       "      <td>Paid $100 for a detail, waited 2 hours and sti...</td>\n",
       "      <td>0</td>\n",
       "    </tr>\n",
       "    <tr>\n",
       "      <th>4084547</th>\n",
       "      <td>We're new to the area and Thai Delight has bec...</td>\n",
       "      <td>1</td>\n",
       "    </tr>\n",
       "    <tr>\n",
       "      <th>4084548</th>\n",
       "      <td>So this place is much better than the reviews ...</td>\n",
       "      <td>1</td>\n",
       "    </tr>\n",
       "    <tr>\n",
       "      <th>4084549</th>\n",
       "      <td>Love the Mad Platter.  The owner herself is fi...</td>\n",
       "      <td>1</td>\n",
       "    </tr>\n",
       "    <tr>\n",
       "      <th>4084550</th>\n",
       "      <td>This is my regular place. I cube every 2 month...</td>\n",
       "      <td>1</td>\n",
       "    </tr>\n",
       "    <tr>\n",
       "      <th>4084551</th>\n",
       "      <td>Came in around 10:30am on a Saturday and the s...</td>\n",
       "      <td>1</td>\n",
       "    </tr>\n",
       "    <tr>\n",
       "      <th>4084552</th>\n",
       "      <td>Echo &amp; Rig Prime Rib Cap medium done, watermel...</td>\n",
       "      <td>1</td>\n",
       "    </tr>\n",
       "    <tr>\n",
       "      <th>4084553</th>\n",
       "      <td>Bar service was definitely not up to par with ...</td>\n",
       "      <td>0</td>\n",
       "    </tr>\n",
       "    <tr>\n",
       "      <th>4084554</th>\n",
       "      <td>Horrible customer services. Appliances deliver...</td>\n",
       "      <td>0</td>\n",
       "    </tr>\n",
       "    <tr>\n",
       "      <th>4084555</th>\n",
       "      <td>They wanted to rip me off $1800 for an arm cha...</td>\n",
       "      <td>0</td>\n",
       "    </tr>\n",
       "    <tr>\n",
       "      <th>4084556</th>\n",
       "      <td>The hidden palace was so the perfect place to ...</td>\n",
       "      <td>1</td>\n",
       "    </tr>\n",
       "    <tr>\n",
       "      <th>4084557</th>\n",
       "      <td>Didn't realize this was a Julian Serrano resta...</td>\n",
       "      <td>1</td>\n",
       "    </tr>\n",
       "    <tr>\n",
       "      <th>4084558</th>\n",
       "      <td>This is one of my favorite spots in earth. Ski...</td>\n",
       "      <td>1</td>\n",
       "    </tr>\n",
       "    <tr>\n",
       "      <th>4084559</th>\n",
       "      <td>To sum it up it was Great Pizza and excellent ...</td>\n",
       "      <td>1</td>\n",
       "    </tr>\n",
       "    <tr>\n",
       "      <th>4084560</th>\n",
       "      <td>I love this store.  My daughter [8] loves it t...</td>\n",
       "      <td>1</td>\n",
       "    </tr>\n",
       "    <tr>\n",
       "      <th>4084561</th>\n",
       "      <td>This completely upsets me to leave 1 star, but...</td>\n",
       "      <td>0</td>\n",
       "    </tr>\n",
       "    <tr>\n",
       "      <th>4084562</th>\n",
       "      <td>So good and so fresh! Love this place and I am...</td>\n",
       "      <td>1</td>\n",
       "    </tr>\n",
       "  </tbody>\n",
       "</table>\n",
       "<p>4084562 rows × 2 columns</p>\n",
       "</div>"
      ],
      "text/plain": [
       "                                                      text  is_positive\n",
       "id                                                                     \n",
       "1        Sehr gutes Restaurant, leckeres essen und nett...            1\n",
       "2        Viel Auswahl täuscht über die wahre Tatsache h...            0\n",
       "3        Hole in the wall burrito joint with the BEST b...            1\n",
       "4                               Pokey Sticks are the best!            1\n",
       "5        Love their subs. Cheap and top shelf ingredients.            1\n",
       "6        Best pizza I've ever had.  My favorite is the ...            1\n",
       "7            Good stuff. Pricey by normal pizza standards.            1\n",
       "8        New club in the Hard Rock, and currently the h...            1\n",
       "9        Love their pizza. They used to have a great ta...            1\n",
       "10       The gold standard for casinos everywhere. Just...            1\n",
       "11       Very fair prices on leather resole ($30), and ...            1\n",
       "12       Frequently busy due to their great food, but t...            1\n",
       "13       Excellent compounding pharmacy, affectionately...            1\n",
       "14       The buffet in this hotel is excellent! The set...            1\n",
       "15       Great hotel! Excellent Buffet!!! A little bit ...            1\n",
       "16       Excellent Hotel! You really feel like you are ...            1\n",
       "17       This is a little bit off the strip, but the vi...            1\n",
       "18       Great food. Lots of selection. Big Portion. A ...            1\n",
       "19       Hella food there!! Cocktail shrimps are great!...            1\n",
       "20       Fresh shrimp, crab legs to enjoy. Prime Ribs &...            1\n",
       "21       Expect to spend about $10.00 per person. Nice ...            1\n",
       "22       This restaurant took me by surprise, I was cra...            1\n",
       "23       Spacious, luxurious rooms that definitely meri...            1\n",
       "24       Easily my favorite place to eat in Madison.  G...            1\n",
       "25       If the all the bars in Madison got together an...            1\n",
       "26       Sophia's is like that girlfriend you broke up ...            1\n",
       "27       Omelettes that have killed lesser men than me....            1\n",
       "28       Incredible asian fusion, and an impressive sak...            1\n",
       "29       Ideal lunch at Dotty's in downtown Madison: Sp...            1\n",
       "30       There is nothing better than happy hour on the...            1\n",
       "...                                                    ...          ...\n",
       "4084533  Wow how pathetic does it get.  This place is l...            0\n",
       "4084534  This past Monday,  thought I would grab a ligh...            0\n",
       "4084535  Went in the first time today. Looks like a nic...            0\n",
       "4084536  McCarran  airports food and drink prices are t...            0\n",
       "4084537  Very well managed facility. Access is great an...            1\n",
       "4084538  This airport is ridiculous. My sister was tryi...            0\n",
       "4084539  Love Russo's. Can't go wrong. Very nice people...            1\n",
       "4084540  Sushi was absolutely delicious and the atmosph...            1\n",
       "4084541  Cucina was our first dinner when getting to La...            1\n",
       "4084542  Nice and clean place. Good fast service. Fun, ...            1\n",
       "4084543  Naked fish will always hold a special spot in ...            1\n",
       "4084544  Went for brunch specifically and they had a bu...            1\n",
       "4084545  Wait, what? Why did I not know before that the...            1\n",
       "4084546  Paid $100 for a detail, waited 2 hours and sti...            0\n",
       "4084547  We're new to the area and Thai Delight has bec...            1\n",
       "4084548  So this place is much better than the reviews ...            1\n",
       "4084549  Love the Mad Platter.  The owner herself is fi...            1\n",
       "4084550  This is my regular place. I cube every 2 month...            1\n",
       "4084551  Came in around 10:30am on a Saturday and the s...            1\n",
       "4084552  Echo & Rig Prime Rib Cap medium done, watermel...            1\n",
       "4084553  Bar service was definitely not up to par with ...            0\n",
       "4084554  Horrible customer services. Appliances deliver...            0\n",
       "4084555  They wanted to rip me off $1800 for an arm cha...            0\n",
       "4084556  The hidden palace was so the perfect place to ...            1\n",
       "4084557  Didn't realize this was a Julian Serrano resta...            1\n",
       "4084558  This is one of my favorite spots in earth. Ski...            1\n",
       "4084559  To sum it up it was Great Pizza and excellent ...            1\n",
       "4084560  I love this store.  My daughter [8] loves it t...            1\n",
       "4084561  This completely upsets me to leave 1 star, but...            0\n",
       "4084562  So good and so fresh! Love this place and I am...            1\n",
       "\n",
       "[4084562 rows x 2 columns]"
      ]
     },
     "execution_count": 25,
     "metadata": {},
     "output_type": "execute_result"
    }
   ],
   "source": [
    "train"
   ]
  },
  {
   "cell_type": "code",
   "execution_count": 26,
   "metadata": {
    "collapsed": true
   },
   "outputs": [],
   "source": [
    "train = train[0:50000]"
   ]
  },
  {
   "cell_type": "markdown",
   "metadata": {},
   "source": [
    "Добавим стоп-слова, которые потребуются для задания модели"
   ]
  },
  {
   "cell_type": "code",
   "execution_count": 10,
   "metadata": {
    "collapsed": true
   },
   "outputs": [],
   "source": [
    "stop = stopwords.words('english') + list(string.punctuation)"
   ]
  },
  {
   "cell_type": "markdown",
   "metadata": {},
   "source": [
    "для преобразования коллекции текстовых документов в матрицу подсчета токенов (слов) воспользуемся классом CountVectorizer"
   ]
  },
  {
   "cell_type": "code",
   "execution_count": 27,
   "metadata": {},
   "outputs": [],
   "source": [
    "from sklearn.feature_extraction.text import CountVectorizer\n",
    "count_vect = CountVectorizer(stop_words=stop)\n",
    "X_train_counts = count_vect.fit_transform(train.text)"
   ]
  },
  {
   "cell_type": "markdown",
   "metadata": {},
   "source": [
    "Преобразуем полученную матрицу встречаемости слов в документах в нормализованный вид"
   ]
  },
  {
   "cell_type": "code",
   "execution_count": 28,
   "metadata": {
    "collapsed": true
   },
   "outputs": [],
   "source": [
    "from sklearn.feature_extraction.text import TfidfTransformer\n",
    "tfidf_transformer = TfidfTransformer()\n",
    "X_train_tfidf = tfidf_transformer.fit_transform(X_train_counts)"
   ]
  },
  {
   "cell_type": "markdown",
   "metadata": {},
   "source": [
    "## Обучение"
   ]
  },
  {
   "cell_type": "code",
   "execution_count": 15,
   "metadata": {
    "collapsed": true
   },
   "outputs": [],
   "source": [
    "test = pd.read_csv(\"D:/Practice/data/train_first_lab/test.csv\", index_col=\"id\")"
   ]
  },
  {
   "cell_type": "code",
   "execution_count": 16,
   "metadata": {
    "collapsed": true
   },
   "outputs": [],
   "source": [
    "\n",
    "from sklearn.linear_model import SGDClassifier\n",
    "from sklearn.pipeline import Pipeline\n"
   ]
  },
  {
   "cell_type": "markdown",
   "metadata": {},
   "source": [
    "Чтобы с цепочкой vectorizer => transformer => classifier было проще работать, воспользуемся классом Pipeline, который функционирует как составной (конвейерный) классификатор. Конечным классификатором выступит машина опорных векторов с обучением SGD, которая умеет работать с разреженными матрицами"
   ]
  },
  {
   "cell_type": "code",
   "execution_count": 29,
   "metadata": {},
   "outputs": [
    {
     "name": "stderr",
     "output_type": "stream",
     "text": [
      "C:\\ProgramData\\Anaconda3\\lib\\site-packages\\sklearn\\linear_model\\stochastic_gradient.py:84: FutureWarning: max_iter and tol parameters have been added in <class 'sklearn.linear_model.stochastic_gradient.SGDClassifier'> in 0.19. If both are left unset, they default to max_iter=5 and tol=None. If tol is not None, max_iter defaults to max_iter=1000. From 0.21, default max_iter will be 1000, and default tol will be 1e-3.\n",
      "  \"and default tol will be 1e-3.\" % type(self), FutureWarning)\n"
     ]
    },
    {
     "data": {
      "text/plain": [
       "Pipeline(memory=None,\n",
       "     steps=[('vect', CountVectorizer(analyzer='word', binary=False, decode_error='strict',\n",
       "        dtype=<class 'numpy.int64'>, encoding='utf-8', input='content',\n",
       "        lowercase=True, max_df=1.0, max_features=None, min_df=1,\n",
       "        ngram_range=(1, 1), preprocessor=None, stop_words=None,\n",
       "        strip...='l2', power_t=0.5, random_state=None,\n",
       "       shuffle=True, tol=None, verbose=0, warm_start=False))])"
      ]
     },
     "execution_count": 29,
     "metadata": {},
     "output_type": "execute_result"
    }
   ],
   "source": [
    "text_clf = Pipeline([('vect', CountVectorizer()),\n",
    "                     ('tfidf', TfidfTransformer()),\n",
    "                     ('clf', SGDClassifier())\n",
    "                    ])\n",
    "text_clf.fit(train.text,train.is_positive)  "
   ]
  },
  {
   "cell_type": "code",
   "execution_count": 30,
   "metadata": {},
   "outputs": [
    {
     "data": {
      "text/plain": [
       "Pipeline(memory=None,\n",
       "     steps=[('vect', CountVectorizer(analyzer='word', binary=False, decode_error='strict',\n",
       "        dtype=<class 'numpy.int64'>, encoding='utf-8', input='content',\n",
       "        lowercase=True, max_df=1.0, max_features=None, min_df=1,\n",
       "        ngram_range=(1, 1), preprocessor=None, stop_words=None,\n",
       "        strip...='l2', power_t=0.5, random_state=None,\n",
       "       shuffle=True, tol=None, verbose=0, warm_start=False))])"
      ]
     },
     "execution_count": 30,
     "metadata": {},
     "output_type": "execute_result"
    }
   ],
   "source": [
    "text_clf"
   ]
  },
  {
   "cell_type": "markdown",
   "metadata": {},
   "source": [
    "Теперь, собственно, осталось только предсказать результат классификации на тестовой выборке и записать полученную информацию в файл."
   ]
  },
  {
   "cell_type": "code",
   "execution_count": 31,
   "metadata": {
    "collapsed": true
   },
   "outputs": [],
   "source": [
    "predicted = text_clf.predict(test.text)"
   ]
  },
  {
   "cell_type": "code",
   "execution_count": 32,
   "metadata": {},
   "outputs": [
    {
     "data": {
      "text/plain": [
       "array([1, 1, 0, ..., 1, 1, 0], dtype=int64)"
      ]
     },
     "execution_count": 32,
     "metadata": {},
     "output_type": "execute_result"
    }
   ],
   "source": [
    "predicted"
   ]
  },
  {
   "cell_type": "code",
   "execution_count": 33,
   "metadata": {},
   "outputs": [],
   "source": [
    "d = {'id': test.index, 'is_positive': np.around(predicted, decimals=0)}\n",
    "result = pd.DataFrame(data=d)"
   ]
  },
  {
   "cell_type": "code",
   "execution_count": 34,
   "metadata": {
    "collapsed": true
   },
   "outputs": [],
   "source": [
    "result.to_csv(\"D:\\\\results_lab1_simple.csv\", index = False)"
   ]
  },
  {
   "cell_type": "markdown",
   "metadata": {},
   "source": [
    "Такие результаты получались при тесте на части тренировочной выборки"
   ]
  },
  {
   "cell_type": "code",
   "execution_count": 21,
   "metadata": {},
   "outputs": [
    {
     "name": "stdout",
     "output_type": "stream",
     "text": [
      "0.0955477738869\n"
     ]
    }
   ],
   "source": [
    "err_train = np.mean(result.is_positive != test.is_positive)\n",
    "print(err_train)"
   ]
  },
  {
   "cell_type": "code",
   "execution_count": 22,
   "metadata": {},
   "outputs": [
    {
     "data": {
      "text/plain": [
       "0.80911734603197938"
      ]
     },
     "execution_count": 22,
     "metadata": {},
     "output_type": "execute_result"
    }
   ],
   "source": [
    "from sklearn import metrics\n",
    "fpr, tpr, thresholds = metrics.roc_curve(test.is_positive, predicted)\n",
    "metrics.auc(fpr, tpr)"
   ]
  },
  {
   "cell_type": "code",
   "execution_count": null,
   "metadata": {
    "collapsed": true
   },
   "outputs": [],
   "source": []
  }
 ],
 "metadata": {
  "kernelspec": {
   "display_name": "Python 3",
   "language": "python",
   "name": "python3"
  },
  "language_info": {
   "codemirror_mode": {
    "name": "ipython",
    "version": 3
   },
   "file_extension": ".py",
   "mimetype": "text/x-python",
   "name": "python",
   "nbconvert_exporter": "python",
   "pygments_lexer": "ipython3",
   "version": "3.6.2"
  }
 },
 "nbformat": 4,
 "nbformat_minor": 2
}
